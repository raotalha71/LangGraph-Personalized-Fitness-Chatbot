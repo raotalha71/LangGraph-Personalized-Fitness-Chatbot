{
  "cells": [
    {
      "cell_type": "code",
      "execution_count": 50,
      "metadata": {
        "id": "hAJ75mrmJpDY"
      },
      "outputs": [],
      "source": [
        "%pip install -q langchain-core langchain-community langchain-groq langgraph\n"
      ]
    },
    {
      "cell_type": "code",
      "execution_count": 51,
      "metadata": {
        "id": "qVaER9WmKpO8"
      },
      "outputs": [],
      "source": [
        "%pip install -Uq pinecone-client"
      ]
    },
    {
      "cell_type": "code",
      "execution_count": 52,
      "metadata": {
        "id": "EQ6Hh8rUKDfB"
      },
      "outputs": [],
      "source": [
        "import os\n",
        "from langgraph.graph import StateGraph, END\n",
        "from langchain_core.messages import HumanMessage, AIMessage\n",
        "from langchain_community.vectorstores import Pinecone\n",
        "from langchain_community.embeddings import HuggingFaceEmbeddings\n",
        "from langgraph.checkpoint.memory import MemorySaver  # Import MemorySaver\n",
        "from langchain_groq import ChatGroq\n",
        "from typing import List, TypedDict\n",
        "from langchain_pinecone import PineconeVectorStore\n"
      ]
    },
    {
      "cell_type": "code",
      "execution_count": null,
      "metadata": {
        "id": "4BhiKbocLjiP"
      },
      "outputs": [],
      "source": [
        "# Initialize Pinecone\n",
        "from pinecone import Pinecone as PineconeClient, ServerlessSpec\n",
        "import os\n",
        "\n",
        "# Set API keys (ensure this cell is run before the Pinecone initialization)\n",
        "os.environ[\"GROQ_API_KEY\"] = \"api\"  # Replace with your Groq API key\n",
        "os.environ[\"PINECONE_API_KEY\"] = \"api\"  # Replace with your Pinecone key\n",
        "\n",
        "pc = PineconeClient(api_key=os.environ[\"PINECONE_API_KEY\"]) # Use the correct environment variable key\n",
        "index_name = \"fitness-goals\"\n"
      ]
    },
    {
      "cell_type": "markdown",
      "metadata": {
        "id": "qVxWORFPWgeh"
      },
      "source": [
        "# Initialize Pinecone"
      ]
    },
    {
      "cell_type": "code",
      "execution_count": 54,
      "metadata": {
        "id": "DMeVFV0tLrym"
      },
      "outputs": [],
      "source": [
        "\n",
        "from pinecone import Pinecone as PineconeClient\n",
        "pc = PineconeClient(api_key=os.environ[\"PINECONE_API_KEY\"])\n",
        "index_name = \"fitness-goals\"\n",
        "if index_name not in pc.list_indexes().names():\n",
        "    pc.create_index(name=index_name, dimension=384, metric=\"cosine\", spec={\"serverless\": {\"cloud\": \"aws\", \"region\": \"us-east-1\"}})"
      ]
    },
    {
      "cell_type": "code",
      "execution_count": 55,
      "metadata": {
        "colab": {
          "base_uri": "https://localhost:8080/"
        },
        "id": "yvuEKnHvXBl3",
        "outputId": "56950363-2b5e-439b-815f-4893e507b969"
      },
      "outputs": [
        {
          "name": "stdout",
          "output_type": "stream",
          "text": [
            "\u001b[33mWARNING: pinecone 6.0.2 does not provide the extra 'async'\u001b[0m\u001b[33m\n",
            "\u001b[0m"
          ]
        }
      ],
      "source": [
        "%pip install -q langchain-pinecone"
      ]
    },
    {
      "cell_type": "code",
      "execution_count": 56,
      "metadata": {
        "id": "EkxCQSggWk8X"
      },
      "outputs": [],
      "source": [
        "import os\n",
        "from langchain_pinecone import PineconeVectorStore\n",
        "from langchain_community.embeddings import HuggingFaceEmbeddings\n",
        "from langchain_groq import ChatGroq\n",
        "\n",
        "# Initialize embeddings (no Hugging Face API key needed)\n",
        "embeddings = HuggingFaceEmbeddings(model_name=\"sentence-transformers/all-MiniLM-L6-v2\")\n",
        "\n",
        "# Initialize vector store\n",
        "memory_store = PineconeVectorStore(index_name=index_name, embedding=embeddings, text_key=\"text\")\n",
        "\n",
        "# Initialize Groq LLM (LLaMA 3.1 70B)\n",
        "llm = ChatGroq(model=\"llama3-70b-8192\", api_key=os.environ[\"GROQ_API_KEY\"])"
      ]
    },
    {
      "cell_type": "code",
      "execution_count": 57,
      "metadata": {
        "id": "fQHJFVrRXnxL"
      },
      "outputs": [],
      "source": [
        "\n",
        "\n",
        "# Define state\n",
        "class ChatState(TypedDict):\n",
        "    messages: List\n",
        "    long_term_memory: List"
      ]
    },
    {
      "cell_type": "code",
      "execution_count": 58,
      "metadata": {
        "id": "SNGv77tOXpiC"
      },
      "outputs": [],
      "source": [
        "\n",
        "# Define chatbot node\n",
        "def chatbot_node(state: ChatState):\n",
        "    user_input = state[\"messages\"][-1].content\n",
        "    results = memory_store.similarity_search(user_input, k=1)\n",
        "    context = results[0].page_content if results else \"No prior goals found.\"\n",
        "    response = llm.invoke(f\"Based on your goal: {user_input} and past context: {context}, recommend a workout.\").content\n",
        "    state[\"messages\"].append(AIMessage(content=response))\n",
        "    memory_store.add_texts([user_input], metadatas=[{\"type\": \"goal\"}])\n",
        "    return state"
      ]
    },
    {
      "cell_type": "code",
      "execution_count": 59,
      "metadata": {
        "id": "kGTZsMrfX0Tb"
      },
      "outputs": [],
      "source": [
        "from langgraph.checkpoint.memory import MemorySaver"
      ]
    },
    {
      "cell_type": "code",
      "execution_count": 60,
      "metadata": {
        "colab": {
          "base_uri": "https://localhost:8080/"
        },
        "id": "1r9iPF6xXs-G",
        "outputId": "066aa2ab-9550-446a-da87-e00cdcdc24fa"
      },
      "outputs": [
        {
          "name": "stdout",
          "output_type": "stream",
          "text": [
            "Response: Congratulations on your goal to run a marathon! To help you achieve this, I'll recommend a workout routine that you can follow. Please note that it's essential to consult with a doctor or a running coach before starting any new exercise program.\n",
            "\n",
            "**Week 1-4: Base Building (Weeks 1-4)**\n",
            "\n",
            "* Goal: Build your endurance and get your body accustomed to running\n",
            "\n",
            "* Workout schedule: 3 times a week, with one longer run on the weekends (Sunday)\n",
            "\n",
            "* Monday (Easy Run):\n",
            "\t+ Warm-up: 10-15 minutes of light jogging or walking\n",
            "\t+ Run at a conversational pace for 20-30 minutes\n",
            "\t+ Cool-down: 10-15 minutes of stretching\n",
            "\n",
            "* Wednesday (Easy Run):\n",
            "\t+ Warm-up: 10-15 minutes of light jogging or walking\n",
            "\t+ Run at a conversational pace for 20-30 minutes\n",
            "\t+ Cool-down: 10-15 minutes of stretching\n",
            "\n",
            "* Sunday (Long Run):\n",
            "\t+ Warm-up: 10-15 minutes of light jogging or walking\n",
            "\t+ Run at a conversational pace for 30-40 minutes\n",
            "\t+ Cool-down: 10-15 minutes of stretching\n",
            "\n",
            "**Week 5-8: Building Endurance (Weeks 5-8)**\n",
            "\n",
            "* Goal: Gradually increase your endurance and running distance\n",
            "\n",
            "* Workout schedule: 3 times a week, with one longer run on the weekends (Sunday)\n",
            "\n",
            "* Monday (Easy Run):\n",
            "\t+ Warm-up: 10-15 minutes of light jogging or walking\n",
            "\t+ Run at a conversational pace for 25-35 minutes\n",
            "\t+ Cool-down: 10-15 minutes of stretching\n",
            "\n",
            "* Wednesday (Easy Run):\n",
            "\t+ Warm-up: 10-15 minutes of light jogging or walking\n",
            "\t+ Run at a conversational pace for 25-35 minutes\n",
            "\t+ Cool-down: 10-15 minutes of stretching\n",
            "\n",
            "* Sunday (Long Run):\n",
            "\t+ Warm-up: 10-15 minutes of light jogging or walking\n",
            "\t+ Run at a conversational pace for 40-50 minutes\n",
            "\t+ Cool-down: 10-15 minutes of stretching\n",
            "\n",
            "**Week 9-12: Building Speed and Endurance (Weeks 9-12)**\n",
            "\n",
            "* Goal: Increase your running speed and endurance\n",
            "\n",
            "* Workout schedule: 3 times a week, with one longer run on the weekends (Sunday)\n",
            "\n",
            "* Monday (Interval Run):\n",
            "\t+ Warm-up: 10-15 minutes of light jogging or walking\n",
            "\t+ Run at a fast pace for 5-10 minutes\n",
            "\t+ Walk or jog at a slow pace for 5 minutes\n",
            "\t+ Repeat the pattern for a total of 20-30 minutes\n",
            "\t+ Cool-down: 10-15 minutes of stretching\n",
            "\n",
            "* Wednesday (Easy Run):\n",
            "\t+ Warm-up: 10-15 minutes of light jogging or walking\n",
            "\t+ Run at a conversational pace for 25-35 minutes\n",
            "\t+ Cool-down: 10-15 minutes of stretching\n",
            "\n",
            "* Sunday (Long Run):\n",
            "\t+ Warm-up: 10-15 minutes of light jogging or walking\n",
            "\t+ Run at a conversational pace for 50-60 minutes\n",
            "\t+ Cool-down: 10-15 minutes of stretching\n",
            "\n",
            "**Additional Tips**\n",
            "\n",
            "* Make sure to listen to your body and rest when needed\n",
            "* Incorporate strength training exercises 2-3 times a week to help prevent injuries\n",
            "* Pay attention to your nutrition and hydration, making sure to fuel your body properly\n",
            "* Get enough sleep, aiming for 7-9 hours of rest each night\n",
            "\n",
            "Remember, consistency and patience are key. Stick to your workout routine, and you'll be on your way to completing a marathon in no time.\n"
          ]
        }
      ],
      "source": [
        "# Build and compile graph\n",
        "workflow = StateGraph(ChatState)\n",
        "workflow.add_node(\"chatbot\", chatbot_node)\n",
        "workflow.set_entry_point(\"chatbot\")\n",
        "workflow.add_edge(\"chatbot\", END)\n",
        "graph = workflow.compile(checkpointer=MemorySaver()) # Use MemorySaver\n",
        "\n",
        "# Run conversation\n",
        "state = ChatState(messages=[HumanMessage(content=\"I want to run a marathon.\")], long_term_memory=[])\n",
        "\n",
        "# Define a configuration with a thread_id\n",
        "config = {\"configurable\": {\"thread_id\": \"my_unique_thread_id\"}} # Replace with a unique ID for each conversation\n",
        "\n",
        "result = graph.invoke(state, config=config) # Pass the config to invoke\n",
        "print(\"Response:\", result[\"messages\"][-1].content)"
      ]
    },
    {
      "cell_type": "markdown",
      "metadata": {
        "id": "oNcuIioioAVF"
      },
      "source": [
        "![image.png](data:image/png;base64,iVBORw0KGgoAAAANSUhEUgAAAT0AAAJHCAYAAADiyoGnAAAAAXNSR0IArs4c6QAAAARnQU1BAACxjwv8YQUAAAAJcEhZcwAADsMAAA7DAcdvqGQAAFzLSURBVHhe7d15nBxlnT/wTx19zHQmIZkQQgwy4QqXx5pR3EVhggfgLcshApLxICoIRLkTmARclVNAIIZrBmVdRVfxWF10f2YIeIDDISpyhUwgCTmYhEmmu+t+fn90V0/1M9U91T1d1VVd3zevprue56mzn/70UzXdHYExxkAIITEh8gWEENLKKPQIIbFCoUcIiRUKPUJIrFDoEUJihUKPEBIrFHqEkFih0COExAqFHiEkVij0CCGxQqFHCIkVCj1CSKxQ6BFCYoVCjxASKxR6hJBYodAjhMQKhR4hJFZqCr2sbiCrG3xxLI2qOgyLfnSa+kMB9YeCKGSE59DL6gZGFA0jigbFNPnqWNmeUzGq6dipaHxVrNh9gvoD9QdEKCM8h56TGfN3NINZZfdxR/2B+gMvzH2irtBrNov+LSOAjkMJHYcCOg7jqh0Lodq/hmZYDGpxmKqYVulcPZOQkZYKeSmJAtKSVDafXxTDxIiiwWQMmYSMznSSb1Ji71aV3auJ8zrFiOM0xt4GSRQgCyJkUSjV+WlE0ZDVDUiCgM50Emk5mOfArU9EoT80mlt/EIrPhSAIse4PCHlGVAw9xTSxPafyxa4600lkEjJf3HDbcgpUc/wUYk5bquKTa1kWGGOwLAuWNbXTjteyeU8XqWVRwL6ZNr644RTDxI78+HOTkkTMaU+XtfGDYprY4aFPzAqoP2zn+sPeVfpDI7n1B0EQCjdRhCiKEAQBsihgXkD9YTvXH/YJqD9EMSMqhh4imuIoju5M08Rjz6oYekEHM00wxiCgsKsCGAQAYI7HzvtieaFt4bFmWKUy1TRgMgZZANrEwr4LYEiIAkShMA9YYXn8cux12vOU6opPw4TtKS3HUQaGvG5CMw2IEDAtIUEWhdqX41Y2Yf/Lj5XFGEzLggBAZxZ0w0RKkpAo7rcoMCRE0WX/y5dTVuZpuyceR9MykdVNMFhISRIysuRhOeNlzrb8siduY+G42GW6aZWWoxoGLABJWca0L34UiUQCgiAgLcs00gthRlQNPSf7LzMIMLUrsRiDKFTuTJZlQdd1/OnveSy+xEDnNAah2OlFFF6wArMgolBedg8GsRiQZY/5do72znYT2jvriuX1tJu4TRbE0n4U7kv7x1CoLy2vvN14e8c+8Pvlsl2u2z2Fdm77WVc7sAr7xx2PisfBblfpeDj6S5X9g2WhbdMPkE6nIUkShCp91A+TvS78FpWMiGToVWOf0mqahkf/OoYPLhew/v6ZOGDfYN5pSDwpd/8aYxevgfTyADKZTGm0FydRyYjC+NMDyTFMdz4OK/sUF8XTFEJ8xQpnGGbxUorHsURLiUpGeA69tCShM50sXC8I6Px8KsY7XngPPmkhAiAKzn4XP1HJCM+hh+LFybAOWQlpKgYw1riPSEVVFDKiptAjhFQgFD62QsKv9UMv5u+8JBg0youO1g89evclARAE6mpR0fqhR0gQitf0SPhR6BHSCHRNLzJiEHr09ksCQNf0IiMGoeffu293d3fV6alo5LKqCWo9LY+u6UVGDEIvvpoVaJXWW6m8JdA1vcig0PNJd3d36caX8dOVwsCt3q3MLufbuJVPhp+Pn59fv9s0P59buXMeXqVlOh/zbXjO+kptGoqu6UVG64deE95+u7u7MTQ0VLrxZc4XobONm2rzVHsx28t0Lrvaerzg94kvt/fRLuPb2PeVjoWT23p41ZZRaVv9Qp/Ti47WD70mvPvaL0T+xehWFjVR2ocgt5U+pxcdrR96TeI2Cgl69NFozhFa2AW+rXRNLzIo9KbAOaKzX2TgrifZZXzbqeCXjUlGl26PK7GX47x3cluHm0ptnMt2W76bSvs2mXrmqRtd04sMzz8iGhX2j4gqioJ1T+3Gh/pkrL9/Vsv8iKjXoCDBUu76NfZctBrsxXswffp0JJNJiCKNKcIoBs8KvfuSANA1vciIQei1FhrlhRRd04sMCj1CGoGu6UVG64cevf2SANDn9KKj9UOP3n1JAOhzetHR+qFHSBDoml5kUOgRTwL7vFtU0TW9yIhB6NHbb70o6GpA1/QiIwYfTk5g/f0zW+bDyZVUCij72wx8GarMw+OX4fzYjF3uVsaXtzLl7l9j7KLVsF6gDyeHHT0rLWTI8V1T+7H9DQ5nnds8fBv+3tnWDjXnsvkArVTesuiaXmR4Dj3FMLEtp2BbToFimHx1IEzG8Hpexdasgj2awVeTKrx8D9VLG1KB0NxPCuzRDGzNKng9r8JsUvpGJSM8h96IokE1LaimhRFF46sDsUvRkDNMaJaFXaoGzbT4JhM1qQOEiXNEVomXNqQy+3N6Y7r7C81Pmll8PVgWcoaJXU16fUYlIzyFnsVY2buHyRisJoSJYZWv09M7WhPffcPEyyjOrQ0/7WSfvtqBGWf25/QML32ywfjXAf86CUKUMsLzHzJGFA3Z4rtYJiGjM53km/huj2Zgl1p4B0mKIuZm0nyT2P4hgzSXctevsfui1dCeuwuzZ+4V+B8ytmYVaFZhVDMzlURHUuab+C4qGeH5WelMJzGnLYU5bamm7AwAdCRlzG1PY++2lOvOENI0AiAKApKS55dUQ83NFF8X7emmBB4ilBE1PUNpWUJabu6IKSmJaKtpGzwNZAmZmhB8Tq9NlpoWurYoZERzj1Ag6JoeCQB99zYyYhB6hASAPqcXGRR6hDQCffc2Mlo/9OjtlwTA/pweCb/WDz169yUBoN/Ti47WDz1CgkDX9CKDQo+QRqCRXmRQ6BHSCDTSiwzPX0OLCvtraKqqYt1Tu3HiVTK+f9m00qf1hOKHlYXibgvOslIdALDiPPZ9sZ4V7r0tr3CFu3w5xftKy6l5ed63y56n9HjS/ay+XWXLm7BdjuW57ou9POdyvO/nhOW5bpfX5bltl9vy3JZTvFc0jF30XeCle9HR0YFEIhHo19CIdy0XegBKoffoX8fw0ZUCRDAIzIIIcPcMAlixfuK9AAbRvnfWTViey/yV5i3dc9sDa0L7smVMqLMgsuJ8U9oObntgAaYJAQySKExcP3c//rjC8eXXU8N2uO5DhXv7sd2+4na4zDvZdpSO84R9dqyfMYjpBKQN9yGTySCRSNBHWEKqZUPPMAwoioJcLgdVVWGaJn2kwKMzzjgDRx11FM4//3y+irgQBAGyLCOdTqO9vR3pdBqSJFHohVRLhp59imsYBnRdh2EYFHg1+NjHPoajjz4al156KV9FKhBFEbIsI5FIQJZlOrUNsZYMPRSDzw4/+zHx5gMf+ACOOeYYXHnllXwVqUAQBAiCAFEUS49JOLVs6KEYfKR2xx13HI499lj09fXxVWQSFHbh19JjcPsdl2613ej41X8j4dfSoUcIITwKPUJIrFDoEUJihUKPEBIrFHqEkFih0COExAqFHnG1ceNGvoiQlkChRwiJFQo9Qkis1BR6W7J5bMnm+eLYyeoGtmTzGFV1vip2qD9Qf3CKQkZ4Dr2sbsCwGAyLIasbfHWsjGp64TgY8T4Odp+g/kD9ARHKCM+hRwghrSByobdHM7BL1aCaFl8VK6ppYZeqYY8W3nfUIFB/KKD+MG6yPlH1p6W251QYrDCjYY03k8XyX5OY05aeUOYH55MqAJg3rQ1SAL9skdUNjGrj12vsY8Hvc0aWMSOVKCvzg8kYtozli/+aA9CRlDEzleRa1W/x4sXo6upCf38/X+XaJ/jjQP2hoFX6QzVu/QEuxyJMfaLiSG9U1aGYZukc3ckuC/r8XTHGk5sV392CMKJoZftrm3AcArqmo5pWqYODOy5+qtQnJhwH6g+x7g9wOxYh6hMVQy+TkJGWJMiiMCGh7TL7lknIZfV+ScvjmysASEkVN7+hZiQTZfvr5CyfkfT/XR3F/XZuhfO4NEJXVxdfBFTpE9QfxrVif6ikUn9AyPtE1dNbp6xuYETRAACd6WRgO8HboxkwmIV2WXbdoSBsyeZhWAyyKGBepo2vDoRqWsgZBmRBREeysc9Fb28vALie3jrZfYL6Q2v3B6+ikhETS0LOvl7htjNxkpJEzEwlm9bBw4L6QwH1h3GT9QnPIz3FNLE9pwJNTvEwCMM7eyM988wzuOOOO6AoChRFwZ/+9CeYpolDDjkEqqpC0zTcc889eOtb31o2n90nqD+0Vn+oV1QywnPoGRbDTkWDwazA/hITVmE4rWu0d77znRgaGuKLAQDvete78Nhjj/HFMCyG7XmF+kML9od6RCUjPIceaW2apmHatGnQ9fKvUkmShO3bt2PWrFll5YRElftJL4mdZDKJZcuW8cX49Kc/TYFHWgqN9EiZgw46COvXrwcAzJgxA2+88QbfhJBIo5EeKfPggw+W/v1W+se+SSuikR6Z4KyzzsLjjz+O559/nq8iJPIo9EgJYwx2d9i5cyc6OzsBoDTyI6QVUOgRoBh4lmXBsiyMjeTRPjMFSZIgiiIEQaDgIy2DrumRUuAZhoGR10YxcM5D+Onlg1BVFYZhlI0ACYk6Cr2YswNP13W8vuUN3P/l38PIm/jrg+vxi+UPU/CRlkOhF2POwBt5bRT3n/8ITI3hc/d+GGetPgF///nL+NWKh6EoCgUfaRkUejHFB973L3gUlsbwhXs+hFn7deCI4w/AGd/9EJ79+Qb85koKPtI6KPRiiA+8gQv+CENlOOfuEzBrv45Su8OPPwCnr/kQ/vngy/jfFYMUfKQlUOjFTNk1vNdGce+Ff4KlMXzpnuPR6Qg82+HHH4jT7vwInvv5evx2xVoKPhJ5FHoxUh54u3HPhY/BVBm+fPcH0Dl/YuDZDjv+QJy65qN4/sGX8Lvl/4+Cj0QahV5M8IF397LHYGrAeZMEnu3QEw7CyXd+HC8++BL+HwUfiTAKvRjgA2/NssdhqAzn33UcZs+fxjevaOEJB+Gkuz6BF3/2An5/xe8o+EgkUei1OD7wVn91CKYGXFhj4NkOOeFgfPLuT2L9gy9i8IrfUvCRyKHQa2HOwNvx2m7c/tUnYKgMy+7sqSvwbAefcAg+dtdJWP+zF/Dw5Q9R8JFIodBrURMC72tPwdQFXHRnD/aeQuDZDj7xEHz07n/HhgefxyOX/y8FH4kMCr0WxAferV97GrrKcPF334u952f45nU76MSF+PDdJ2PDT5/Do5f9hoKPRAKFXospC7yte3DzRc/A0AVcuqaxgWc78MRD8aF7T8XGn/0Tf7zs1xR8JPQo9FqIM/C2b92Dmy56BoYGXL763zDHh8CzHXDioTjh3tOw8afP4k+X/oqCj4QahV6L4APvxov+DkMTsNznwLMtOPEwHN9/Ol792T/xGAUfCTEKvRbAB971F/8DugasWP1uzJnfzjf3TdeJh+H9956OV3/6dzx+yS8o+Ego0S8nRxwfeNde/CwsDVh5xzuxz5uCCzynjb9+FoNLvo/9Tjoc3dd9HOl0GrIs0y8wk1CoaaSnGCYUw+SLA6WZFvJN3gaTMeQME2aT3y9yugFFN0qB981LnoOuCU0NPADY/0OHY/HAmdj833/Hk5c86OuIj/rDuLxhQjMtvjhQUcgIzyO9EUVDVjcAAJmEjM50km/iuz2agV2qBgBIiiLmZtJ8E9+ppoXtOQUMgABgTnsaKamm946GeG0sD8UwYOg69Dc03LLiJVgqcM3tizD3TW1886Z49df/wCNnD2D+vx+Jt1/3yYaP+Kg/jNuaVaBZhcCbmUqiIynzTXwXlYzw9OxYjJV2BgCyugHLW1Y2lHMbNKt6mvslZxiw95wVp4OW041S4L2+fQzXX7EeuiqEKvAAYL8PHYH3DpyNLT95Bn+9+KcNH/FRfyjIG2Yp8MAdl6BEKSM8hZ4oCJAc78ySIEBswDt1rWSxfJ3ObQqKLJQfMn7ab4wxCIwVAy+L1ateBTNFfOP2d4Qq8Gz7ffhIvOe+Jdj6k2fwt4v/u6HBR/2hgN9v/rgEIUoZ4fn0VjFMjGo6AGBGMoG0LPFNfGcyhl2KBsNiyCTkpgzhAWCXqkExLKRlETNTwQ3hnX+0ePnVUXxz+QYIBnDtd96GfUMYeE6b/+dveOysezD35LfgyBtOacipbtz7g9MezUBWNyCLAmamk64vdr9FJSM8hx5pLmfgbds6hqsufxmmBlx/61ux75smXrcIoy3/8wweP+tuzD35bTi8QcFHSK0o9CLAGXhbt47hyss3wNCAm259S2QCz/bar/6KobPuwpyT34bDbjyNgo8EjkIv5PjAW37FRpgacNMtR2BexALPtvVXf8WTZ67B3qf8CxZS8JGAUeiFGB94ly9/BYYK3HLL4ZENPNvWXz2Np8/8Lmaf/C845KbTKfhIYCj0QooPvEuXb4KpAbfechjmzUvxzSNp26+exjNnrEbnKf+Cg276NAUfCQSFXgg5A++1rVlcsnwTDA247ZZD8aYWCTzb9l8+hb+dcTtmnbIIB377DAo+4jsKvZDhA++iFVtgaMAdNx/ScoFn2/HLp/CPT9+GmacuwoJvn0nBR3xFoRcifOB99crXYKjAd28+uGUDz/b6L5/Es5/+DvY6pRtdN59FwUd8Q6EXEmWBty2LC1dsg6EDa246EPNbPPBsI798Es+dfgtmnPpOvPnmz1DwEV9Q6IUAH3jnX7kdugbcfdOBmD+vOZ/wb5aRXzyBF06/GdNPeyf2u3kJBR9puOC/KEjKOANvy7YsvtI3Ak0XYxl4AND5sUVY+F8XIPujx7H5woGGfleXENBIr7n4wDuvbyc0laH/xi7sF8PAc9r1iyGs/9RNmHbauzDvls/SiI80DIVek5QHXg5fXrkLugoM3LBf7APP9sYv/oINp92IzKeOwtxbPkfBRxqCQq8J+MD74so3oKkM37/hzdhvXoJvHmtv/PxxbDztBrR/6t3Y59bPU/CRKaPQCxgfeOesGoWmCrj/hjfhzftS4LkZ/fnjePW069D2qX/F3rd+gYKPTAmFXoCcgbd5Ww5fWLUHqgr81w3zKPAmsfvnj2Hzqdci9al/w+zvnEPBR+pGoRcQPvA+d/UYNFXAD6+fS4Hn0Z6fP4Ytp3wLqdP/DbO+s5SCj9SFQi8AZae02/NYsmoMqirggevnYv99J/6yK6ls7Od/xtaTv4HE6Udj5m1fouAjNaPQ8xkfeJ+5OgdNE/Dja+dQ4NUp+/M/Y/vJ/wH59PdgBgUfqRGFno/4wDvzGgWqCvz02r0p8KYo++Cf8PrJX4d0+nsw/fZzKfiIZ/SNDJ+UXcPbruDT16jIayL+u0GB193dje7ubr64oex1NGI9jViGU+YT/4q9f7IC+K91GDv3dvrmBvGMQs8HfOCdXgy8n31rNroaFHhDQ0MYGhoqhclkoTJZPc+5Dud6wqT9E/+Kzp9cCfznILJf/g5UVaXgI5Oi01sfWJYFwzCwaVsep16jQdUE/PKbM9G1b2P+STw7kJzTtskCyp7PbuNcjhO/DqfJls9vD1y2sZGUB/+A0ZNWQjijB+2rL0A6nYYkSXSaS9wx0lCWZTHDMNgrr2XZO87ZwQ47+3X28haDbzZlixYtYosWLSqbdmOXV2o72Xz2Y37aTbV1uZU1kvLTR9l2HMd2fOYbTFEUZpomsyyLb0YIo9Nbn3ROB67/nIXRMRNfumk3NL2xA+rJTju7J7kWN1m902Qjs1qW5Qf98ecxes5NMI97G8RvL6VTW1JVTaGX1Qv/ijoBRlUdhjXxxWWfUomiiLcfJOPuCxT8fb2Cj1+2s2HBN1nA2Kem1cLKeb1uKrysy0/a48/j9Y+sgHbkfjC/9zXIsgxRLHTrIE9vK/WHuIlCRngOvaxuYETRMKJoUEyTr46V7TkVo5qOnYrGVwHFwJNlGalUCosWprHmfAX/2KDipMtGGhJ89giPv+7mDEO30Zc97Zyfb2Pj21QLNbfleJlvqtS/vIAdH70K2hHzYd33VbS1tSGZTAZ+PW+y/hAXUckIz3/IsHcIADrTSWQSU/8rZFRtyeZhWAyyKGBepo2vBop/zDBNE6qqIpvNYuifOZx7SwJvWZDEf1+7N5KJ4F6UQfM77FAMvG0fuQrm4fMg3Xchpk2bhra2NiQSicBDz0t/iIOoZITnkV6YWN5yuqkEQYAkSUilUshkMug+rB13XKDh2ZdVnHLpjoaM+OJK+csLeO2jK2EcMR/SfReiPZNpWuCFSRReF0GpdiyqjvQMi0EtDlMV0yqdq2cSMtJSIS8lUUBaasxHMSajGCZGFA0mY8gkZHSmg/uxTed1CvvdDMV3NBSPgyyIkMXxF5z9eTHniO+Jf2ZxwbclHHlACj+6bp+WHvH5QfnLi9j80ZVgh+8Ldve50BIpJFIpzGhvw5xMW2CBV09/8NOIoiGrG5AEAZ3pJNJyMK/JKGZExdBzDlUnM6c9FchObcspUE2rND2nLRXIk2ufvkwmLUmY017+L5e5Bd+T/8ziwm8LOPKANP7rurkUfB7l//IiNn3sarDD90W6/zzkpQSERBJycYS3T3s69P3BD4phYnteLU2nJBH7tKfL2vghqhlR8fRWquEdyvTQAeLAYOMH22Z/F9R5qvuOwzK4+UILz67P44yLt9Cprgf5v7yIVz7+dZiHz0O6/zxMmzat8H3bEJ/SuvWHVhLVjKg40kNEh65+cZ7OjGqFjyfIooAZyfHfwktJUsXTGbcR31PPjuGibzMccUAa37/+TTTiqyD3l5ew8RP/ARw2F5l7v1T6o4UpiHhDN2EV+2SU+kOj0eltgZeMqBp6TmH6y4zFGMQmvrPX+9e6SsF3yU0mDj8gje/dsB8FHyf3l5fw8ie+ARw2F9Pv/aLrX2mj2h8ardnHISoZUfH0Nswq7UzYuZ3q/svh03D9V0U8tz6P3oteoVNdh+zQerz0yW+BHT6vYuAhwv2h0eg4jKt2LDyHnvP8vZZzeVLOLfjefngHrv2ahOfW5/DZr22ETsGHsaH1ePET14IdNhcz7jmnYuCR8IhKRng+vYXjOkYzh61hYFgMWd1AJiHXfc3G7VT3r8/uwfIbNBx2YBvuubELiZie6o4Nrcfzn7we0mFzMOvuz4c+8BrRH1pFFDKiptAjjeUafP/YjStvUHHYgW2466YDYhd8e4ZexnMnXQ/x0DnY++7PhT7wSPR4Pr0ljed2qvu2I6bjmotTeH59Fku/uj5Wp7p7hl7GsyfdCOGwuRR4xDcUek3mGnyHT8fVF7XhhZfG8KVlL8Yi+HYPbcDf/v3bEA7bB3Pu6qXAI76h0AsBt+B76xHT0XdxO15Yn8W5y15o6eDb/cQGPHPyzRAPm4O5dy2hwCO+otALCffgm4GrLs7ghZfGcN6Fz7Vk8I0+sQFP/fstEA/dG/PuPJsCj/iOQi9E3ILvLUfMwIpLOvDSS1lc0GLBN/rEMJ48+TuQD5uD+Xd+hgKPBIJCL2QqBd8Vl3bgxZf24MILnm2J4HvjiWEMnfIdSIfujf3WnEmBRwJDoRdCbsF35BF74bJLZ+Cll8bw1Qv+AV2P7pfZ33hiI/5y6u2QD52DrjVnUOCRQFHohVSl4Lv00r3w0ou7cdH5f49k8O16YiP+fOodkBfujQXfPZ0CjwSOQi/E3ILviCP3wsWXzcL6l/bgkvP/Fqng2/XkRvzptNVILJyNA7/7KQo80hQUeiHnHnwz8bXLOrH+xd249Ct/jUTw7XzyFTx66hokFs7Gwd89jQKPNA2FXgS4Bd/hR87Essv3xssv7cEVIQ++nU++gkdOuxOpQ2dj4epTKfBIU1HoRUSl4Lvw8r2x/sVRLD/vqVAG38iTr2DwtLuQXDgLh95xMgUeaToKvQhxC77DjpyF86/YBxte3I2rznsyVMH3+pOvYu2n7kH60E4cQYFHQoJCL2IqBd95y+fi5RdG0XfuEIwQBN/rT76K359+L9ILZ+HI20+iwCOhQaEXQW7Bd+iRs/DlFfti+MVRrDz3L00Nvh1PbsL/fXoAbQtn4a23f5ICj4QKhV5EuQdfJ764/E0YfuENXP3lx5oSfDue3ITffnoA6UNm4m23fZwCj4QOhV6EuQXfwrd04pwV+2H4xVF8PeDg2/7UZvzvGd9D+8KZeMdtH6PAI6FEoRdxlYLvCyv2w/ALu/CNL/0pkODb/tRm/PqM76PtkL2w6DsfpcAjoUWh1wLcgu+Qt8zG567cHxtfeAPf+tIffQ2+bU9txq/O/E9kDtkL7/rORyjwSKhR6LWISsG35KoubHx+F6794qO+BN/Wp7bgl2f+AJmDZ+Bdt5xIgUdCj0KvhVQKvrP7FuCVF97ADV98pKHBt/WpLfj5Wf+FaYfshXffcgI6Ojoo8EjoUei1GLfgO/gte+OsvgOw8flduHHpww0Jvtee2oKfnfVDTDt4Bv715g9S4JHIoNBrQZWC78yVB+HVF3bh21MMvteefg0//cwD6DhkBt5z8wco8EikUOi1KLfgO+gte+P0voPx6vMjuOWctXUF35anX8OPz/oxOg6ejvd++/0UeCRyPP9j34phYlTTAQAzkgmkZYlv4juTMexSNBgWQyYhoyPZnH9FfZeqQTEspGURM1NJvjoQezQDWd2ALAqYmU5CqhA2bv+g+PpntuOBvuew/8KZ+Mqdx0FOeHvv2/L0VjzwmR9jr4M7sPimxUi2tUOTZHRm2pFJJQMPPOoP47z2Bz9FJSO89XYAI4oG1bSgmhZGFI2vDsQuRUPOMKFZFnapGjSz9pHKVO3RDOzRDOiWVXocNM0s7r9lIWeY2FXl+XAb8R341jk4ddWh2PT8CG7/wv95GvFtfnorfnj2f2P6wdOx+KbF6OjoQE6QYIoS3tDNwAMP1B9KaukPfopKRngKPYsxmI4BockYLG8DxIYyrPJ1OrcpKAYrP4j8dBD4/eaPC69S8J286jBsen4nVn/hd1WDb/PTW/GDJT/DjIOn43039aCjowOpdBqCLEOSJFjFPhI0fr/54xIE/vnnp4PA7zd/XIIQpYzwFHqiICCTGB8mZhIyxCa8szu3ISmKaGvC8LldlmHvuVCcDlqbLCEpjj91zuNSiVvwHfDWfXDS1Ydj03Mj+O7nHnINvk1Pb8P9Sx7EjIOm4f03HlO6hpdKJjE9nYJQ7BvUH6LVHxotShnh+ZoeiufsAJpyrm7TTAsmY647ExSTMaimhZQkNuXaiS1vmJAEAUnJ03sXUOEa34ZntuEXVz6D/Q6ZhS/cczzkROHYbvrrNnx/yc8x66AMTrjhPa5/tFAMk/pDhPtDo0UhI2oKPdIa3INvK3614hnMP2QWvnDPCdjyz9dxX+8v0XlgOz50w9GugUdIFFHoxZRb8A0/sxX/s+JpzD+kE1v/sR2zD2rHh6//Vwo80lIo9GKMD75cLofhv27F/1wxhI55Mk79Tg99l5a0nOad/JOm4/+40d7ejgP+ZR6yb3sJtz61AtOnT6fAIy2HQi/m+ODLZDJIzgFEUURbWxuSySQFHmkpFHqkLPiSySTk4scuEokERFGkwCMthUKPAMXgE0WxdLODkAKPtBoKPVLGDrmuri4KPNKSKPQIIbFCoUcIiRUKPTLBxo0b+SJCWgaFHiEkVij0CCGxQqFHCIkVCj1CSKxQ6BFCYoVCj7jq6uriiwhpCRR6hJBYodAjhMQK/YhokzzzzDN8UWiMjo4CAGbMmMFXhUIqlcLChQv5YkI8odBrkqeffhqmWfhHVEhtpk2bRqFH6kant4SQWKHQa5Kvfe1rWLp0admN51Y2FW7Lc1u31zKv6p2PED9Q6DXJjTfeiDVr1gAA1qxZU3rs5FZWL7fgWbp0aWnddr3XMie3MkLCikIvZOwRlXNkxZc567xqZIA6ObfRWVZp+6q1q7Zv1eoIqUVNobclm8eWbJ4vjp2sbmBLNo9RVeerGsJt5OcsqzTqcoYCX+cX5zZhklGhXVetnVuZsy1/XMLA7/4QJVHICM+hl9UNGBaDYTFkdYOvjpVRTS8cByN8x4EPjLBw2yavIzd7n7y0bYYw94cgRSUjPIceCT/nqCtsIyK37all9OY2AiSkHpELvT2agV2qBtW0+CpSB3sE5Qwer2VOdhg5R2V8W2doOdtNFmTOdvwyqT8UqKaFXaqGPVp4R1hBmaxPVP1w8vacCoMVZjSs8WayWP6vZM1pS08o84PzSRUAzJvWBimAf7ErqxsY1cav19jHgt/njCxjRipRVlYJfTi5fvaHk1upP0yFyRi2jOVhv0I7kjJmppJcK39EMSMqjvRGVR2KaZbO0Z3ssqDP3xVjPLlZ8d0tCCOKVra/tgnHIebXdIJG/aFANa1S4IE7Ln6KakZUDL1MQkZakiCLwoSEtsvsWyYhl9X7JS2Pb64AICVV3PyGmpFMlO2vk7N8RtL/d3UyjvpDQUoS4dwK53HxU1QzourprVNWNzCiaACAznQysJ3g7dEMGMxCuyy77lAQtmTzMCwGWRQwL9PGV3tCp7f1c373tlX6w1SppoWcYUAWRHQkm/PajEpGRC70wqARnTzMgffRj34URx99NC677DK+qkxWN7BL0TCzCf1BkiS+qGka0R9aQVQyYmIMViAFcBEyTiRJCu0tn89D1/UJ5fwtmZAhuJQHcSPhE5WM8Bx6siCWzt9TMe909rWaoK7ZhJUsiNQfqD+URCUjvIeeKGBOewrzMm0TLlrGTSYh480d7aEdvgfFPp2j/kD9ARHKCM+hRwghrYBCjxASKxR6hJBY8fyRFdK6br311rKPp6iqClEUkUiMX5jfsWMHMplMaZqQqKKRHsH555+Pgw46CPl8Hvl8HpZlwTCM0nRvby8FHmkZNNIjAIBXX30VXV1dsKzy7yruu+++2LJlS1kZIVFGIz0CANhvv/1wxhln8MVYvXo1X0RIpNFIj5SZPXs2RkZGAADHHnssBgcH+SaERBqN9EiZG2+8EQCQSqUo8EhLopFeA7TaITzqqKNw3HHH4Zvf/CZfFVlCAD8uSqKBQm+KGGOlW6vYunUr5s6dyxdHmiAIpRuJNwq9KWCMwTTN0o0OZTiJolj6dRZRFCn4Yo5Cr06MMViWBU3T8O6v5ABmQWQMIgr3QvFeBOPKGURmlcoFx+PCfWFacMzjvdy5bPdygVmQXMtZsbz6/Pa+uJcX55+wjfzxcOy/SzvJpby0TnvZdvuKx2+8XBIA6aiFaP/OV5BIJCCKdCk7zij06sQYK32Ad9G5Gk45tq0UEgIYBICbHn8sFg58Wdl4uQUBKIYjP29hPtEuc5SXtS2Wj6+/sLxq5aX5J2zP5OVu21NLudv2VCqvZzv1P/wNxoFz0XbruUin05AkiUZ7MUahVyfGGDRNQzabxbvON7Hk+HasOIu+tRBGu45ZBmXBbLTfeh7a29shyzKFXozROL9O9nuFZVmFx/QiCi+h8I/E0Ps7AYVeA9HrKbwYBR4ZR6E3RaUXEw30wkso/Y8QCr2GoZFEeDGA0VCcFFHoNQpd0wuv4jU9QkCh10A0kCAkEij0GoWGEiFHTxApoNBrFLqmF16M0TU9UkKh1yh0TS+8BIHGeaSkptBTDBOKYfLFgdJMC/kmb4PJGHKGCdM5uqtxINHd3Y3u7m7XMufNLndTqZzHL88uq9dU5kUD5q9Zjc9NrVz7QxPkDROaWf5z/0GLQkZ4Dr0RRcP2vIrteRUjisZXB2KPZmBrTsGOvIqtWYWvDoRqWtgylsfreRWvjeXHO1kNQ4nu7m4MDQ1haGioLADsMv6xPY8TP12Jc138+prFuV88X7bPx8/pOfvDlrE81CaFztZs8XWRU7BHM/jqQEQlIzyFnsUYsvr4gczqBqwmvKs5t0Gzqqe5X3KGURo4MAA5s7gNdR6PagFQC69hwQcpP5/XMptdbrfh21Uqc9Y5p533zjb8NL/Mqnz8nN6E/mAEHzh5w4Tm+AednK+ToEQpIzyFnigIkBzXrCRBgNiEa1iyWL5O5zYFRRbKD5lsb0MN22KPuGp54TpHad3F0RtfXyt+9Gcvd7IyG78dfLtq89qc9fay7PtK89tlnvn4Ob2J/cHTS6qh+NcB/zoJQpQywvMz1JlOIiWJSEkiOtNJvjoQM9NJtMsSkqKImakkkpLnzW+YjqSMjqSMhChiWlLGtIRcqKjxTc3txRwG3VXC2Bk0ldo0WrXtCQNnf7AfBy0pFV8Pooh2WcLMJr0+o5IRE0sqSMsS9mlPY5/2NNKyxFcHQhIEzG5LYW4m3ZTOZZuZSmLfTBozU44nduIbSkXNfBFPtm47jN1GUvxoKwjVtqc2NTxBNXLtDwHrSMqYm0ljdlvKdXQThKhkhOfQI5Oo4fqFPcJzntJ5Yc/nNk+lMHOuq9K8Nr4tX8bPa9fZ+HbV5q3Gbd3O9dTMx2t6JHroR0TrZFkWdF3H7t278e4LGXpPnIYVZ7bzzWKj1mAL0q5jl0HZvxNtt56HTCZDPyIaczTSaxR66yAkEij0GiXmA4ewjvLGxfwJIiUUeo1CVwnCi67pEQcKvUaha0Th5ePn9Ej0UOg1Cg0kwotG4cSBQq9RaCgRXoJATxApodBrFBpNhBf9nh5xoNBrFLqmF170e3rEgUJvikofcqWBRHjRc0McKPQahYYS4SUAQhN+/YSEE30NrU6MMei6jrGxMbzrfBOzp0sQwSAyCyIYBMZqmhaZBQEM4iTt6pu218Eg2OurNA0LglUokwAIsBzbVFjW+DqKy2bMse3Oacd6ueVMdbp8OyqsB8X9YwzqofPQfut5aG9vp6+hxRyFXp0YYzAMA/l8HpfcmYeh62CWCaEYJAIYBKAYKiiUYzwc7MeFFy5Kj4XSi9VZb7cvLKes3sPyytqwwnJKy7TX6Wj7vYEBCGDoPfvs4r4UljdxPePLE6ptd2m/PBwHZ33F5bmsz2V5kiBABCCJAhIJGe3XL0U6nYYkSRR6MUahVyfGGCzLgqZpUBQFmqbBNE20wuGcP38+vvzlL+OKK67gqyJHFEVIkoRUKoVUKoVEIgFRFCn0YoxCbwoYYzBNE4ZhtEzgAUBHRweWLVuGq6++mq+KJDv47BsFXrxR6E0RY6zs1goSiQQuvvhifOMb3+CrIkkQhLIbiTcKvQZotUMoiiIuvfRSfPOb3+SrIo0Cj4A+stIY/Egi6rdFixa15H4RAgo9QkjcUOgRQmKFQo8QEisUeoSQWKHQI4TESk2hl9UNZHWDL46lUVWHYbXWR1XqQf2hgPpDQRQywnPoZXUDI4qGEUWDYpp8daxsz6kY1XTsVDS+KlbsPkH9gfoDIpQRnkPPyYz5O5rBrLL7uKP+QP2BF+Y+UVfoNZvVYt+AqBcdhwI6DgV0HMZVOxZVQ8+wWOkcXTHH38UU03KUBzeMVQwTm8fy2DSWx0jApxL2/mZ1o3Ttpvz4mIFe0xlRNGway2PzWB6KEdxz4NYnqD9Qf3D2B4S8T1QMPcU0sSVbmHFE0ZB1XJzMOs7dt+fUsjo/jWo6zGKCZ3UjsCfXeRz4A+k8DtvzSlmdXxTDLB1zkzGMajrfxBeV+gT1h3HUHwrC3Ceq/uCAYTGoxZS2kxsAMgkZaamQl5IoIC1JZfP5RTFMjCgaTMaQScjoTCf5Jr5xPmmjWuEvdbIoYEYyUSpPSRJkMZjveNqdTBIEdKaTSMuNew66u7vx/ve/H9/61rf4Ktc+Qf2htftDNW79ASHPiKqh52QnNwB0ppPIJGS+SWAsxiA28QvkW7L5Uiefl2njqwPj13GoFnpOdp+g/tDa/cGrqGRExdPbMKu0M3Hj13F44okn+KJQ8+s4RA0dh3HVjoXn0JMcw3TnYxJfdj+g/kAQoYzwHHppSUJnOlm4XhDQ+XlYzWlLY0YygTltab4qVuw+Qf2B+gMilBGeQw/Fi5PNPE8PC1kUMCOVCOwidZhRf6D+4BSFjPD8hwzSuj772c9iz549pemf/OQnWLhwId7ylreUys4991z09PSUpgmJKgo9AhT/BbSxsTG+GADwjne8I3J/3CCkkppOb0nr6uvr44sAAJIk4aGHHuKLCYksCj0CALjoootw2GGH8cXo7e3F7Nmz+WJCIotOb0nJCy+8gEMPPbT0T1rOmTMH27Zt45sREmk00iMlhxxyCE477bTS9K233lpWT0groJEemWDmzJk44ogj8Oijj/JVhEQehd4UMMZKp4Kt5M4778Q555zDF0ee/Q9+0z/8HW8UenVijMGyLJim2ZLB14pEUSzdKPjii0KvDowxmKaJp15Use4ZDcy0AGZBAINQOKilxwArTqNYxiCwCo8LCx9fzmTzFtsXLsza9VNp79x257we9oPf7zr2o3Htuf0AIACQJQlt534ciUQCgiBQ8MUUhV4dLMuCYRgYei6Ho5cZmDOdQWQWRExyzxhEMEjMgsAYJNj3DAKzJr9nDCIKy7HLC8u0lz2+jonr5e7dtm/C8qY6P9/WrazKfcV9KS+TUDyu/PEqhqFUfEMSLQupDd9DOp2GJEkUejFFoVcj+zqeqqp4/Nkx9Fwi4PmBmThkv/B+wZoA+Tt+gWxfP6QX7kUmkymN9kj80EdW6mAHn2maABjoXSMCGAMYStdg6b0+vij0pqDwwhGK17xIqAkCINjPGYkzCr06OV889DKKgsJIj0Z5hEKvAWikFwWFkR4hFHpTRtf0IqF4TY8QCr0po2t6kUB/qSVFFHoNQAOIKKBniRRQ6DUAjSGigK7pkQIKvSmja3qRQNf0SBGF3pTVdk2vu7u77ObGrXyyeZwqtalUHiSv+9Bwxc/pEUKh1wC1DiCGhoZKNz4Auru7J5TbZZXmccO34aebwbkf9vYEt1000iMFFHoNEPQAYmhoqPS43tDgR1z2NH+rZR6+bTWVgo9fFr98vt47GumRIuZRXjfY1myebc3mWV43+OpAGJbFduQU9tpYnu1Wdb46EJZlsR3ZHHtp2+vsZ4+8wnDcdvbcK96Px6JFi8pufJ3btLPcbT4eP1+l+8nKJqvnt6NSuRO//ZM9divjH3uRu+1BtqPzE2zbtm0sn88z0zT5JnXbqahsy1ie7VRUviowu1WdvTaWZztyCjMsi68ORFQywvNIb0TRoJoWVNPCiKLx1YHYpWjIGSY0y8IuVYNmWnwT3+3RDOzRDOjMQl43a76mB8fprRt+ZMOrNF+tqq3DT/zpba3q3m6fPqdX6g+WVXocNM0svh4sCznDxK4mvT6jkhGeQs9iDKbj+4omY7Ca8P1Fwypfp3ObgmKwiQex3q1we/E7r935Kaj1OPH7Wo/6t7veZ6k6vj/w00HgXwf86yQIUcoIT6EnCgIyCbk0nUnIEH1656zGuQ1JUUSbHPxv2LXLcmlkx99PRXfxIr+THYr2vX1ztqsWJM753cprGTU55+GXZ6u0PlulZdjbUKneVs92j/Pnmh7fH9rl8T4alDZZQlIcfyk7XydBiVJG1PQjoophAgDSLgsKimZaMBlz3ZkgMMagmyZGszk8/c8xfHB5As8NzMJC+hFRoEJ4h0H+9p8j2zcA69k1mD59OpLJJERHUEyFyRhU00JKEiE14YVuyxsmJEFAUmrMftUjChlR09FJy1JTdwYAkpJ7egdJEgS0y1Lxnaz2a3qtKqyBB/j7OT27PzQz8GCP+JoYeIhIRjT3CLUIz0PlFhfawAPoc3qkhEKvAZr7/k688W+kR6KFQm/K6Lu3kUDfvSVFFHpTRtf0IqHJ19tIeFDoNQANIKKAniVSQKHXADSGiAK6pkcKKPSmjK7pRQJd0yNFFHpTRtf0IsHHz+mRaKHQq5MgCBCKF8dpABEFhZGe83kj8VTT19BI4WtolmVBVVX8+e+78b7LZdz9tWkQwAo3hvHHhRlQ+N5G8Z4V6gBABKtaX1jeJPVl6wTgNo+jDNxy7PpK2+Gl3nWd/Ha61Je2pWwfisssa19pnRPrKy0Tqo5sXz/wz7vQ0dGBRCLRsK+hkWih0KuDZVnQNA2PPzuGj/YBArMgMgsiYxBRvGcWRBTuJTAIxXtneS3tYRowNQ0iLLQlk+XLcZlPYBakCsvn78vb29tm19vLcJkutpeYBWYYsAwN6UQCkuBsN3EbJGZBYAwSX89vn8u8/H7W1D4pQ3rxXmQyGSQSCRrxxRSFXh0sy4JhGFAUBblcDqqqwjQLX7RutE2bNuGSSy7BY489hqOOOgrXXXcd5s+fzzdruk2bNuGMM87ASSedhAsuuICvbipBECBJEtLpNNrb25FOpyFJEoVeTFHo1cE+xTUMA7quwzRNWFbjf0ft2muvxbXXXos3v/nNuO222/Ce97yHbxIqP/jBD3Ddddfh9NNPx6WXXspXN5UoipBlGYlEArIs06ltjFHo1YkxVgo/+3GjrFu3Dtdccw3WrVuHFStW4Morr+SbhNY111yDr3/966HbbvsPGKIo0h8zYo5CbwoafeiGh4fx2c9+FoODg+jp6cG9996Lrq4uvlnorVq1CqtWrcLLL78cuu2nsCMUeiGxcuVKrFq1Cl1dXejv70dPTw/fJFJ6e3sxMDCADRs2hC74SLxR6DXZ4OAgent7MTw8jL6+PqxcuZJvElkLFiwAAKxdu5aCj4QGXc1tkuHhYSxevBiLFy9GT08PNmzY0FKBh2LYoTjqGx4e5qsJaQoKvSZYuXJl2Siov7+/JUdCXV1dWLt2LYaHhzEwMMBXE9IUFHoBGhgYwIIFC7Bq1Sr09/dj7dq1kb92N5muri709fXhvvvua7mRLIkmCr0A2Keyvb29pVPZJUuW8M1a1pIlS3D22Wdj1apVFHyk6Sj0fNbb2xuLU9nJrFy5En19fVi1ahVd3yNNRX+99cnAwEDpBd7f3x+rkV019FEW0mwUeg02ODiIVatWYXBwEEuWLEF/fz/fJPbooyykmWo6vd2SzWNLNs8Xx05WN7Alm8eoqpeV9/b2YvHixYDjVLbV1dMfWu2jLJX6QxxFISM8h15WN2BYDIbFkNUNvjpWRjW9cByMwnEYGBiAIAgYGBiIzV9l4egTtfaHVvsoC98f4ioqGeE59MhEf3pkXemvskuWLAFjLNLX7kzTrPnGXMq83Pbbbz9cffXV+MlPfoL/+I//mFAfxhtpDZ6v6WV1AyOKBgDoTCeRSch8k0Ds0QwYzEK7LCMlNSezt2TzuHDpOfjxf96Pnp4e9PX1BT6yU00LOcOALIjoSDbmuXjllVewY8cOvpgAmDlzJg444AC+GCj2B8NikEUB8zJtfHUg/OgPtYpKRlQNve05FQYr/E6cYY03k8XyX6qY05aeUOaHXaqGPVph2CwAmDetDVIAv5qR1Q2MaoXrNQ/c/30s++JSzH/z/rh5zRr863uPKbXLyDJmpBKOOf1hMoYtY/nSv83RkZQxM5XkWtWOQq8yZ+g5+wMcrw3+NRD1/uBFFDNiYgwWjao6FNMsnaM72WVBn78rxvgPdbLiu1sQRhQNjz78ME4+8QQs++JSXHj5FfjD35/FO49+b/lxCOiajmpaZf8YkfO4EP+NKFrZ826b8Lpo8f4Q1YyoGHqZhIy0JEEWhQkJbZfZt6CGsWl5fHMFwHXo6ofV130Lp334RAgAfvKb/8Wyy5eX6pzHYUbS/3d1FPfb+Yw4j0ujLF26FEuXLuWLfdeMdfIm24YZyUTZ8+7Uqv3BTVQzourprVNUztcbaXh4GL29vRgcHCz7i2yrXsOxT2+XLl2KNWvWAMUAsB/7JYh11MJte+ia3uSikhGRC70gLV68uPSNCucfKsLQyf3gFnpO9gjIGYhuKtWvWbOmrKzSND+/27aAW36leWrZBrd57LKwh14YRCYjmEd5w2Abd2fZxt1ZNqbpfHXL6enpYV1dXXwxY4yxzWM5tnF3lm0ey/FVkbZx40Y2NDTEhoaG2KJFi9iiRYvKpvnHbmX8Y77MrZ3XMrflVSqrVl+pXbX69evX84erpFX7Q62ikhETx34VyIJYOn9PSRJf3VIGBgYwODhY8RsV9rWaoK7ZNMOaNWsmjIqW1nGdr555eG4jPXvb+GV7LXPjth4v4tAfvIhKRngPPVHAnPYU5mXaJly0bDWrVq2q+tm7TELGmzvawzt8n6JKAWEHoddwWFo8VfXavpLJtoc/HXWus5ZtqLSeybR6f/AqKhnhOfTiYnh4GMPDwxUDLw6coyg7LJxltYSD1/Z8G7dtcHJuy2TbyE87TbYe0no8/yEjLlauXIn77rsPGzZs4KtaHn04ubJqf8gg0UIjPc7GjRtjPcojpNVR6HGGh4ex//7788WEkBZBp7ecBQsW4Oyzz47lv+Xwyiuv4I033uCLm2LHjh2YNm0a2trC8bm3adOm0elti6DQ4yxYsAB9fX2R/omoVhDnNx/iLzq9JaHU1dWFjRs38sWETBmFHgkl+rcziF8o9EhotcK/n0HCh0KPEBIrFHqEkFih0COhMTY2VroZhgHTNMvKCGkECj0SGrNmzUJHRwc6Ojpw//3345FHHilNz5gxA5s3b+ZnIaRmFHokNM477zy+qOSss87Cm970Jr6YkJpR6JHQuOmmmzB//ny+GLNnz26JfxSchAOFHgmVe+65hy/CTTfdxBcRUjcKPRIqH/zgB/H+97+/NH3UUUfhrLPOKmtDyFRQ6JHQ+d3vfod0Og1ZljE4OMhXEzIlFHoxwhiLzO2SSy7B0qVLkUqlJtSF9UaigX5lhdOqv7JCL1D/CIJQdiPhRqHHacXQY4zBNE2omgnTNGFZlkvw8dMFfr6Ey5ftvn6gelU1tW+79xXZyxYEAaIoQpIkSKkkJEmi4As5Cj1Oq4UeYwyWZUHXdSz9dg7f/z8TkmVBggWRFe4ly4IICxIr3ErlrtMMIjMhgUFiJjft1r447SgrTRfLKk0XluO2nkrTLust7l+19Uis2v67rcdlfz/2bmR+tAKJRAKiKFLwhRiFHqcVQ880TSiKgqXfzmFkLIUvfiQNAQwAg1DoBIV7sMKNFR4HW+9oM2l94XFY6rUf/h5KLoe2H1yBtrY2Gu2FHIUepxVDzzAM5HI5fPHmPHaOpfHQ9XvxzcgU7D7tGuT2jCH9g8uRyWQgyzKFXojV9NdbxTChGCZfHCjNtJBv8jaYjCFnmDCb/H6RN0xopsUXuyr9AYNei74wmAXD9VppcGrpD36JQkZ4Dr0RRcP2vIrteRUjisZXB2KPZmBrTsGOvIqtWYWvDoRqWtgylsfreRVbxvJQm9TJtmaLxyGnYI9m8NVlyv5i27zXZEvTDAuvRaQ/+CUqGeEp9CzGkNXHD2RWN2A14R3NuQ2aVT3N/ZIzjFJusOJ00PKGCc0af3E5j8ukaKTnDyGi/aFBopQRnkJPFARIjmsUkiBAbMI1C1ksX6dzm4IiC+WHjJ8OAr/f/HGppgn9MB6KBzZq/aFRopQRnp+hznQSKUlEShLRmU7y1YGYmU6iXZaQFEXMTCWRlDxvfsN0JGV0JGUkRLH0OGhJqbj/ooh2WcLMGp4Plz5AGkAURUxLSpHrD40UlYyYWFJBWpawT3sa+7SnkZYlvjoQkiBgdlsKczPppnQu28xUEvtm0piZas4Ti2L4zs2kMbst5fpuVhGN9HyREkXslYxgf2igqGSE59AjLaI5r4fWR8c1Mij0Yoau6fmEjmtkUOjFTJPOfFofHdfIoNCLmVpHet3d3ROm+ZtbO1ulcpvbsuzySKnxuJLmodCLmamO9IaGhjA0NDThMVyCip+uhF+OXRYpUzyuJDgUejFT60ivkbyGIBxt3UaBznIeX85PO8sqldelmQeW1IRCL2amOtKrZmhoqCys+NEaP22bLGzskSC/bGeZWzk/7cSXV2vriZ8HljQUhV7MhHFAYodNpVB04yUoazXZMqsK4XEl7ij0YqZVBiSTBWU94TXZMqtqkeMaBxR6MVPPSM8eAXkJEvv00C04vMzvhb0Ofpuc5c5T1Urb41RpmZ7VcVxJc9CPiHJa8UdEdV1HNpvFl25RsCvXhoeuox8RbaTdp12D7J49SN1/GaZNm4ZEIkE/IhpiNNKLGXqL8wkd18ig0IsZGoD4hI5rZFDoxQyN9HxCBzYyKPRihkZ6PqEDGxkUejFDAxKf0HGNDAq9mKEBiU/ouEYGhV7M0EjPJ3RcI4NCL2ZopOcTOq6RQaEXE/aHZWmk5xM6rpFBoRcDzm8H0EjPJ0L5cSbhRV9D47Ti19AMw0A+n8cXb87jx4+IEJkFyb7B4qYZRGZCYgwSsyBivE4stuenRctRDgbRMiGBQSouR2T2tGNdE9ZbPi1WmJ/fjsmXV1hOYXkT56827ZxfYgwi7ONiT4+3tz74drT913K0t7dDlmUKwBCj0OO0YuiZpglVVXH/73LQVAWGYQCWBTALQqETQAArPAYrThcfT5h2ti9Mw2X+J4aG8MCPfohPnXoq3tnd7ViWY7ll0+PLxYT1VNquCo+5afDLmnS5zunK+ysKAkQBSEgSUskk2s/8ANLpNCRJotALMQo9TquFHgBYlgVd16FpGjRNg2masCyLb9YwP/rRj3DhhRfi5ptvxmmnncZXB+bRRx/F9u3bcdJJJ/FVDSMIAiRJQjKZRCqVQiKRgCjSVaMwqyn0sroBAMgk3P8R3VbgNfRGVR2ZhAxZDP87OmMMlmWVwo4xhhqe9qqyulHWHx555BGccMIJuOKKK7B8+fKytkF74IEH0NvbC1EUse++++Koo47CySefjI9//ON807oJggBBELBHNzE9nUJSjvcoLwoZ4Tn0srqBEUUDAMxpTyEtNedfMPebl9DbnlOhmCbSkoQ57Sm+OpScQefxKZ+U3Sfs/vDwww/jfe97H84++2zcc889fPOmSCQSE/ZXkiTMnz8fK1asQG9vb1ldPXbkNSimiTZZxj6ZNF8dG1HJiLrG4abVmBdNVBmscGpo30eBIAgQRbF038gbg4B169bhfe97H5YsWYL+/v4JbZp16+zs5A8FTNPEhz70IXzuc5+b0L6emwlWuicFYc6IukKv2awGjVSirp7jYJ+ONfL26Lp1OO6440qBx9f7fWNV9uutb30rfwhwwQUX4I477pjQdiq3MKinP7SqaseiaugZFkNWN5DVDSjm+KhGMS1HuVk2j58Uw8TmsTw2jeVLw+ig2Pub1Q0YxXex8uNjlsqDMKJo2DSWx+axPBQjuOeA7xN/fmQdTvzA+3HmZ87GbXfeFbr+cOKJJ/JFePvb384X1Yz6QwHfH2xhzoiK1/SyjvPzyQR1/r4tp0B1HNg5bSmk5cau1+2a3pZs3lMHDuoan2KY2J5XS9MpScQ+7f5fS+L7xJ8fWYfTPnwiTjnjTNywek2pPEz9YefOnaVT3OXLl0OWZaxatQr9/f1Vr9tWQ/2hgO8P1YSpT1Qc6Uk1/FUyzOfvQYrSNb56OPtEpcBDyPrDrFmzMG3aNKxatQpf//rXsXLlSvT19aG3txcDAwN884aKU3+YTJj6hLRy5cqVfCEAyKKITEJGUhLRLksQBQF68bNdmYSM6UkZ7bKEjqSMdjmYP0/LggDFtMBK25Dgm0zZLbfcgp6enrJToI5kArIooF2W0C5L0C0LFgNkUcDMVLJUPiOZhBjA9R1ZFGEwBt2yIAmFbZAD+GyY3Scee/QRfOKE43H0McdizQ9+GPr+IElS2cdnenp6AADLli1DV1dXzae71B8KIpsRzKMxTWcbd2fZxt1ZNqbpfHWgTMviixqmq6uL9ff388VlNo/l2MbdWbZ5LMdXBcrP41DJ2rVrGQDW09NT6hNR7Q99fX0MwKTP92Ti3B+copIR/r8d+CCId88oCPo4DA4OYvHixejp6cHatWv56qap9zg4T3WHh4f56sip9zi0omrHwnPoOc/fazmXJ63BLfDsfhDl/rBy5UosWbIECxYsaInga6aoZITn0EtLEjrTSXSmk4H8FSbM5rSlMSOZwJw2//9CFgZugQdHn4h6f7D/kltv8MWtP1QSlYzwHHooXhgM83fqgiKLAmakChezW93w8LBr4NlapT9MJfji1B8mE4WMqCn0SLwMDw9jwYIFFQOv1Uwl+Eh0VPxwcly5fTh5Kp5//nm+KBJUVcVjjz2Gvfbay/WrXEGbM2cOZs6cyRdXtWnTJmSzWb54Us8//zy2bduGo446CqmU/x8uBoDOzk7Mnj2bLyY+oNDj2COb/v5+vqouTz755IRf+SC1O+CAA+oKvW3btvHFobT//vtT6AWETm859gdXCSGtiULPBV3PIaR1Uehxjj32WAwODjY0+JYuXVp2q0e980WJn/s4lWPvpzBuU6uj0OMsWbIEXV1dDf8y+po1a0q3ah29Ut2aNeVf6m+2StsZRkuXLvV07Ek80B8yXKxcuRL33Xcf1q5di66uLr66Jk8++STOOeecstCyX4T2YxRDzfmC5KftMnDz2JzLdLZBhcCsVD/ZOnn8sidbbqXl2fvrVr9mzZop/SGDPzbwsH67jfN54Jdh47fVWcYvz8m5TvpDRoD4L+OSgq6uLtbX18cX1+yJJ55gixYtKrsNDQ2xoaEh18duZV7q+TbV2vFlbvX88irVVSrz8pgv4++dt507d/KHdlKvvvpq2Trclsuvj98Gtzqv8/KP3eaz73fs2MFvPvEJnd5WsHbtWtx3332o8MtbNVtTPL3iLa3jWpPXeby24/Hz2SOSepZVTaVl+rE++/g7l+l1HV7bedHIZZH6UOhV0NXVhbPPPrsUfI36wwb/wrNfjG6BWInXeby2c1rquP7l5BYaU1FpPbZGrs9tGZOt36me4+imlnUS/9A1vUkMDg6it7cXXV1d6O/vr/kan9dreuAC0X7sbFdpHqda2rnV8QHh3CZ7Go52tS6Xn9/m3F+3ZUzlmh48rt/mPIb2tI3fX1So59fHt7Pr7HXRNb3gUOh5YH/pfnh4GP39/ejp6fEcfmH9Rgb/wm4E5zIbvfyphp5fGrXPFHrBodCrgf1X3VpGfXEKPVQY4TRCWEMPDdpnCr3gUOjVaHBwEKtWrcLg4GDphwmqhV9YQy9qwhx6jUChFxwKvTo5R319fX0Vv7O7a9cuvihUBgcH8cADD+COO+7gq0Kn1tCrdOwfeOAB/PjHPwYAnHvuuRWfu6DVun+kTuWfYCG12LBhA+vp6WEA2JIlS9iGDRv4JqHX19fHurq6+OKWZP9DQAAa8hlMEk30kZUp6Orqwtq1a9Hf31/6SfVGf30tCNVOz1vBwMAABEHAqlWr0NfXB8ZYwz5/SaKHQq8BlixZgg0bNqCnpwe9vb2lv/SS5hoYGMCCBQvQ29tLYUdKKPQaqL+/H2vXri39zHoUR32twBl2PT092LBhA4UdKaHQazD7RbZkyRKsWrWKRn0Bcgs7rx8tIvFBoeeT/v5+9Pf3l436KPz8QWFHakEfWQlAPR9q9su6devw+c9/vjQ9MjKCfD6P+fPnl8pOOOEE3HrrraXpsBoYGMCqVaswPDyMJUuWoK+vr6nHlkQE/+dc4o+1a9eWPt7S19fn+vGWP//5z2x0dJQvbrgPf/jDpY9u8Ld58+bxzUOnv78/8h8VIs3jOfTyusG2ZvNsazbP8rrBVwfCsCy2I6ew18bybLeq89WB2amobMtYnu1UVL5qUv39/ayrq4t1dXWxtWvXltVNnz6dffCDHywrq2S3qrPXxvJsR05hhmXx1ZPKZDITAg8A++Uvf8k3rcjuE0H1Bz7sXnr55cj3h0aZan9ohKhkhOdreiOKBtW0oJoWRhSNrw7ELkVDzjChWRZ2qRo00+Kb+G6PZmCPZkC3rNLjWixZsgRr165FT08PFi9ejN7eXgwPD+Oiiy7C7t278X//939QFIWfrYxmFvffspAzTOyq4/lYsWIFX4Senh585CMf4YsrsvuE3/1hYGCgdKycn42cMXde5PtDIzSiPzRCVDLCU+hZjMF0XPozGYPVhEuBhlW+Tuc2BcVg5QeRn/bCvra3du1aDA4O4r3vfS9uvPFGAIBlWTjllFP4Wcrw+80fFy8uu+wyLFy4sDSdSqWwdu3asjbVOPuEX/3B/sA3H3b218b4/eaPSxD455+fDgK/3/xxCUKUMsJT6ImCgExCLk1nEjJEQShrEwTnNiRFEW2yVFYfhHZZhr3nQnG6XvZfGvnviP7mN78pm+a1yRKS4vhT5zwutfjpT38Kofg8Llu2jK+uytknGt0f7LBbvHgxUPwVa2fY2VqtP9SrUf1hKiKVEfz5bjV53WjaubpNNUyWa/I2GJbFsrrh+dqJZVkVb9dffz3jr6sBYCeddNKEtvwtq+lM0Y0J5bXcTj31VNbV1TWh3Ostp+kTyuq9/f73vy9ds+vp6WG///3vmTXJMY5if/BLTjeYaph8caCikBH0kRUfFf9QVDbttGPHDuy7775lZTZZlie9ttcof/jDH3D00UfzxYF5+OGHcfXVV+Phhx/Gsccei6uuugrHHnssAJRGooIglB4TMhUUej5hjMGyLJimCcuyJgQeAFx11VX4xz/+AV3XoWkaNE0rPTYMA+effz7OPvtsfraWsW7dOnzjG9/AunXrcMwxx+CKK67AMcccU9ZGEASIoghRFCFJEgUfmTIKPR/YgafrOpZ+Ow9mmRCYBZExiCjcC2Au0xbEYjk/XX2+8WkRrLCuSdrx00HP99gf/4jhl1/C3H3m4G1HHol95+xdWJbdrrhMAQyyICC98jNI7T8XoihS8JEpodDzAWMMpmkin8+j+1wVB+ybgGCZpRe8ZAdGKSwc945gKLVzaz+hXeVlSawQTBJf79LOtd6tnds2Fe9L63G2c7SX7KC027q1ZxYkWJAAGA89jsRz96BtwTwkEgkKPTIlFHo+YIxB13Vks1kcdYGJs97fjis/0843Ix7oj/4do++9APjbdzHtoP2QTCbp+h6ZEk8fWSG1sf+AYZommGWBgd5Xpso0TdfrooTUikLPbwIglD7JRerF/yWckHpR6PmIMQYw0EiPkBCh0PObINBIj5AQodDzG2M00iMkRCj0/EbX9AgJFQo9v9E1PUJChULPb3RNj5BQodDzG13TIyRUKPT8Vuc1ve7u7tLNnq5HvfM58cvgpyvx2o6QIFHo+Y2V/udZd3c3hoaGSrdaw6PW9vAwz2T1hEQFhZ7fBKH4m7r1GxoaAhyjPyfniNBZ72xXbT77sfO+FpMtu1oZIc1Aoee3Bl7Tcxv5OUeE9rTz3m2+bsdI0n7Mz8Pj1wuX5fBl1doR0iwUen4TpjrOm1xQo6iphFZQ20jIZCj0/Fb4+u2UVAsLt5FVGNnbGPbtJK2PQs9vdXxOzx5R2bfJgsJtFOWc5pfjXD5/GjoZZ3u35TjL3Np5WQchfqIfEfWB/VPxu3fvxr8tYzjrgxlc9ZkM34x4YP+IqPHUbZh+yP5Ip9P0I6JkSmik57c6P6dHCPEHhZ7f6Lu3hIQKhZ7f6rimRwjxT02htyWbx5Zsni+OnaxuYEs2j1FV56smauDn9Eg41dQfWlwUMsJz6GV1A4bFYFgMWd3gq2NlVNMLx8HwcBwC+Jweaa6a+kMLi0pGeA49UqcGfE6PENI4kQu9PZqBXaoG1bT4qnCia3q+ilx/8IlqWtilatijhXeEFZTJ+kTV0NueU0vn6COKViof1fRS+ZZsHoYVzFhml6qVntjtOQVmQB8xtK/ZuO2vs9z1mg5d0/NNJPuDD0zGsD2nlF7su9Tx16rfopgRFUNvVNWhmGbpHN3JLgv6/F0xxpObFd/dgjCiaGX7a5twHLhrOoJQuKBHIz1/RK0/+EU1rbK3Vedx8VNUM6Ji6GUSMtKSBFkUIIvlL1q7zL5lEnJZvV/S8vjmCgBSUsXNb6gZyUTZ/jo5y2ckE2V1AH1Or5H4b2FEsj/4ICWJZW+rzuPip6hmhOevoWV1ozR87UwnA9sJ3h7NgMEstMuy6w4FwR6uy6KAeZk2vhqMMWiahrGxMbz7QgvHd7dBhAWRMQhgxfvCtFg2jUI7MAjFOoEVpu221aYLyy6fvzANrt34usvbuUyX1mU56ty2320ZxXYVtpefrrQM9Y4HYf31DnQc/GakUqmyr6FFoT8EQTUt5AwDsiCiI9mc12ZUMiJyoRcGk3VyxhgMw0A2m8WJV6iAZUKwzMILvPQityAVw0Rk4y92kVmQSoFSuJeYVaFdcdpRJjJWnL+8neCyPgkW/vn3v0OEhbccfnhxnmI7D/MLzIRlWUgKDDLGw1JGMbwnLKe8TOK3fcJ+MUgCQ0IUId+9DJkD5yORSEAUJ3bkZpqsP8RFVDLCc+gppontORUI+Q4FYbJOzhiDaZrQNA25XA6qqsI0TXg81IG69tprsXr1agwPD/NVk1JNEyOKhr1SSbTLEl89ZYIgQBRFpFIptLW1IZVKQZblCae5zTZZf4iLqGSE59AzLIadigaDWZjTlp5wDh8n9jtatSfWsiyYpgnDMGAYBhhjoQy9lStX4uabb8Ybb7zBV03KsBheV1TMTqd86Q/2aawkSZBluRR4YQs9L/0hDqKSEZ5Dj9TGDjnnLYyWL1+O66+/HpoW3MccamGHnPNGyFRQ6Pks7If38ssvx7XXXgvLmvin/TChsCONEq4rwi2IH6WE7Ra17SRkqij0CP2EO4kVCj1CSKxQ6BFCYoVCjxASKxR6hJBYodAjhMQKhR4hJFYo9AghsUKhRwiJFQo9QkisUOgRQmKFQo8QEisUeoSQWKHQIxgaGuKLCGlZFHqEkFih0COExAqFHiEkVujn4mPmueeew+DgYGn6wQcfxEMPPYTVq1eXypLJJD772c+WpglpJRR6MbT//vvjlVde4YsBAJIk4fXXX8dee+3FVxHSEuj0Nobuvfdevqjk85//PAUeaWk00oup448/Hr/97W/LyvbZZx9s3bq1rIyQVkMjvZh66KGH0NbWVlZ22223lU0T0opqCj3FMKEYJl8cKM20kG/yNpiMIWeYMJs8SM4bJjSz/n+v9rLLLis9fs973oOTTz65rN4L6g+t0x8aIQoZ4fn0dkTRkNUNAEAmIaMzneSb+G6PZmCXqgEAkqKIuZk038R3qmlhe04BAyAAmNOeRkqq6b2jIbZmFWjFf6B7ZiqJjqTMN/Hk4IMPxiuvvAJVVfmqSdl9gvpD6/SHqYhKRnh6dizGSjsDAFndgOUtKxvKuQ2aVT3N/ZIzDNh7XjguOhhjgd5yugHVNEvTY1r92/DDH/4QX/nKVyaUT3YzLau03jFNh2lZE9r4fXPut2qaTe8PrDgdtLxhlgIP3OskKFHKCM8jvc1j+dLwXRIEvGla+fWgILyeV5Fz7MTc9jSSAb+r2u8k9ottr2QCGVmEx8PYEJppYVtOKU23yRJmt6XK2gRhS7FPSIKAeU3qD4ppAYIAURSxb6YNKVnim/nKObJAk0ZZmmlhq6M/tDepP0QlIzyHnmKYGNV0AMCMZALpgDsXitdOdikaDIshk5AD71y2XaqGvG5ChoVnX2QwTRPMsgDGIBTbCMX3fwEMQvEIO8sAFMsL8xTms+evMg8AMFa8dmJAEgRMT8oQBXt53LoLRRCKT3PZckrrKd/uSbehOI9uWsgZBjKyVDylqzIPCttd2FeP2+B6PMfnsZiFrG4CooiOY96GvdpSEMVg3wRR7A+KYSEti5iZCv6UDsXwzeoGZFHAzHQSkmAfueBEJSM8hx4ZxxiDZVnQNA3n35bDPb+xIMKCxCyIYIX74k0CK9zz0yhOs/LpqvNjYnt+2jm/PY/IimWu8xfr7Wl7OWXzFJY73t77frkdl6rLq7Bfdr3r/IfMQ9uTq5FKpSBJEoQmvOBJdFDo1YGxwugun8/jgtvzWL81gf9cPr1wUafIHpGUT9uPi+XcqKjw2Gl8pFM2XZpvvLx8unyZYNW2h19H+fZVWwc/rz1iK02XHlVfR2F6fKLaOoDxUSsAKAMPIf/930J+/FZkMhnIskyhR6qi0KsDYwyGYSCXy+GC2/PYsD2Fh2+eyTcjAche831kv/cQpD/fgo6ODiQSCQo9UlXwF0BaiP3HDNJMAgQIZX/VJaQaCj0SeQwUdsQ7Cj0SaUJxrEeIVxR6JNJY8T9CvKLQIxFXuKZHiFcUeiTyaKRHakGhRyKNrumRWlHokUhjNNIjNaLQI5FHIz1SCwq9Juju7i67RUkYt5tGeqQWFHpNMjQ0VLqFKUCq6e7u9rzd1eqqqXU+uqZHakWhFzJuoyh+dMVP8+3cyryU89NeVVqG855ftttj/t4L+pweqRWFXpM4g2BoaKhUxo+inGV2OzhGim7t+NDgy92WWW3+WtnLrLa9btzmmxx9To/UhkKvSZyB42QHoc0OimphUatKy3QrCz8a6ZHaUOg1GT/64UdgzrJGBpLbMt3WHX400iO1odALEecIzA4j57QzjPgy57yThZbbMt3WzePbuM3r5Jz2Oo/d1jsa6ZHa0I+I1sH+EdFsNosLbs9jeEc60B8RdYZHFPi5vdlr7kfuew8Bf7wJ06dPRyKRaMq/k0Gig3oHiTga6ZHaUOhFkF+jJr/4ub2FK3p0TY94R6FHIo0+p0dqRaFHIo5GeqQ2FHok4mikR2pTU+hl9cK/ok6AUVWHYdGLrfnCMdKj/lAQhYzwHHpZ3cCIomFE0aCYJl8dK9tzKnZrOnapGl9FAtf8kd72nIpRTcdOJd79ISoZ4Tn0nMyYv6MZzAIAmPQRxxBo/kjP7g/2PQl3RtQVes1mUdiQksJITxCaG3xhQK+LcdWORdVvZBgWg1ocpiqmVTpXzyRkpKVCXkqigLQklc3nF8UwMaJoMBlDJiGjM53km/jGeZ3i9bwK0zCQz+fxzX4Lr77ehpvP7QDASmMOoXhYC9OOcjCA8eWV6wtljjas2IYvn2ydhaLK8062XdWWXW17J5sXgMAqlBeXXV7maMsA/X/+jN33/S/2rLseb+6chWQyGUgAOvvDiOO01u6TkihAFkTIov/bguI2ZHUDkiCgM51EWg7mNRnFjKgYeoppYntO5YtddaaTyCRkvrjhtuUUqOb4KcSctlQgT+6WbL7sIjVjDKZpQlXyWHm3iR+vTUCEBZFZkBiDCAsSK06DFcu56WJ7kbFCXWkefn5HG5f5q81T3o6brrRdxW2Z6vx2+7L9qnl+s1ReOAYmxNL+F+sZg3ngXLy+9jrs3zkTHW1p30OP7w+VyKKAeZk2vrjhFMPE9vz4azUlidinPV3Wxg9RzYiKoYeIprhfnO/sb6gaNMOEpWvYvNmAqigwdB2SwCAJzitM4yMSOEYrhcfjFWXtHc9GxTYAdqsGFMOEJDBMTyaQKj4fzhETJoyWCvXjjwvTpceOkSAqtDeZBcModCrNYlANA2lZQqo4ohFFIGV/99XD8mo+Rmx8e3WLIW9ZkJNJ7PXWgzFvr+mQJMn30APXH0a1wl9uZVHAjGSiVJ6SJBrphTAjqoaek/2XGQSY2pVYjEEMoGNXsiWbh2aYEJiF2QkJuq7DNE14PJQN0+zjkNMN7FR1zEol0N6E/iAIAkRRhCTLSCWTTfuxAXvkF9TIrpJm94eoZEQkQ6/ZtmTz0E0LkgDMbUvBsiwwxgIPvWbL6gZ2KhpmNak/CIJQuomiCFEUAxnl8cISes0WlYzwHHrO8/c57anAhqthZHdySQDmZdpiF3Y2u080uz/YQdeMwAOFXklUMsJz6MFxHSOsCR4Uw2LI6gYyCTmwazZhZR+HOKP+MC4KGVFT6BFCSNQFf9WXEEKaiEKPEBIrFHqEkFih0COExAqFHiEkVij0CCGxQqFHCIkVCj1CSKxQ6BFCYoVCjxASKxR6hJBYodAjhMQKhR4hJFYo9AghsUKhRwiJFQo9QkisUOgRQmKFQo8QEisUeoSQWKHQI4TECoUeISRWKPQIIbFCoUcIiZX/D7+jQKPfuCQ3AAAAAElFTkSuQmCC)"
      ]
    },
    {
      "cell_type": "code",
      "execution_count": null,
      "metadata": {
        "id": "NSZcVJnoYtnI"
      },
      "outputs": [],
      "source": []
    }
  ],
  "metadata": {
    "colab": {
      "provenance": []
    },
    "kernelspec": {
      "display_name": "Python 3",
      "name": "python3"
    },
    "language_info": {
      "name": "python"
    }
  },
  "nbformat": 4,
  "nbformat_minor": 0
}
